{
 "cells": [
  {
   "cell_type": "code",
   "execution_count": null,
   "id": "86aa9545-955e-4224-bca4-fba223aa1204",
   "metadata": {},
   "outputs": [],
   "source": [
    "import pandas as pd\n",
    "import numpy as np\n",
    "import tensorflow as ts\n",
    "import matplotlib.pyplot as plt\n",
    "from tensorflow.keras import layers, models\n",
    "from tensorflow.keras.datasets import cifar10\n",
    "from tensorflow.keras.utils import to_categorical"
   ]
  },
  {
   "cell_type": "code",
   "execution_count": null,
   "id": "c07101db-50ff-45fc-b0d4-95229dfcbe9e",
   "metadata": {},
   "outputs": [],
   "source": [
    "# Load the CIFAR-10 dataset\n",
    "(train_data, train_label), (test_data, test_label) = cifar10.load_data()"
   ]
  },
  {
   "cell_type": "code",
   "execution_count": null,
   "id": "fdf12a19-65ee-4b1c-81bc-ab773993fd99",
   "metadata": {},
   "outputs": [],
   "source": [
    "# Normalize pixel values to range [0,1] for better convergence\n",
    "train_data = train_data / 255.0\n",
    "test_data = test_data / 255.0"
   ]
  },
  {
   "cell_type": "code",
   "execution_count": null,
   "id": "9d6aa1bc-c0b7-4dce-83bb-521fa5251453",
   "metadata": {},
   "outputs": [],
   "source": [
    "# Convert labels to one-hot encoding for categorical classification\n",
    "train_label = to_categorical(train_label)\n",
    "test_label = to_categorical(test_label)"
   ]
  },
  {
   "cell_type": "code",
   "execution_count": null,
   "id": "b0e7a20e-67c5-471f-bce4-feb7ae62a1af",
   "metadata": {},
   "outputs": [],
   "source": [
    "# Define the CNN model architecture\n",
    "cnn = models.Sequential([\n",
    "    layers.Conv2D(32, (3, 3), input_shape=(32, 32, 3), activation='relu'),  # First convolutional layer\n",
    "    layers.MaxPooling2D(pool_size=(2, 2)),  # First pooling layer\n",
    "    layers.Conv2D(64, (3, 3), activation='relu'),  # Second convolutional layer\n",
    "    layers.MaxPooling2D(pool_size=(2, 2)),  # Second pooling layer\n",
    "    layers.Flatten(),  # Flatten the feature maps into a 1D vector\n",
    "    layers.Dense(128, activation='relu'),  # Fully connected layer with 128 neurons\n",
    "    layers.Dense(64, activation='relu'),  # Fully connected layer with 64 neurons\n",
    "    layers.Dense(10, activation='softmax'),  # Output layer with 10 classes and softmax activation\n",
    "])"
   ]
  },
  {
   "cell_type": "code",
   "execution_count": null,
   "id": "4cc82071-1c1e-4134-a40d-24f1ebf4c94f",
   "metadata": {},
   "outputs": [],
   "source": [
    "# Compile the CNN model\n",
    "cnn.compile(\n",
    "    optimizer='adam',  # Use Adam optimizer\n",
    "    loss=ts.keras.losses.CategoricalCrossentropy(),  # Categorical crossentropy for multi-class classification\n",
    "    metrics=['accuracy']  # Track accuracy as a metric\n",
    ")"
   ]
  },
  {
   "cell_type": "code",
   "execution_count": null,
   "id": "5bc05bdd-711a-48fc-b73f-df3c545282fa",
   "metadata": {},
   "outputs": [],
   "source": [
    "# Train the CNN model on the training data and validate on the test data\n",
    "history = cnn.fit(train_data, train_label, validation_data=(test_data, test_label), epochs=5)"
   ]
  },
  {
   "cell_type": "code",
   "execution_count": null,
   "id": "dfa85449-2431-4c66-88ac-26f261cba430",
   "metadata": {},
   "outputs": [],
   "source": [
    "# Extract the training history\n",
    "his = history.history"
   ]
  },
  {
   "cell_type": "code",
   "execution_count": null,
   "id": "b39ec8b5-510e-4fa0-9003-0e144a8ed3dd",
   "metadata": {},
   "outputs": [],
   "source": [
    "# Plot training and validation accuracy and loss\n",
    "plt.plot(his['accuracy'], label='Training Accuracy')\n",
    "plt.plot(his['loss'], label='Training Loss')\n",
    "plt.plot(his['val_accuracy'], label='Validation Accuracy')\n",
    "plt.plot(his['val_loss'], label='Validation Loss')\n",
    "plt.title('Training History')\n",
    "plt.xlabel('Epochs')\n",
    "plt.ylabel('Metric Value')\n",
    "plt.legend()\n",
    "plt.show()"
   ]
  },
  {
   "cell_type": "code",
   "execution_count": null,
   "id": "146705aa-da67-4207-9d36-0053b065dca3",
   "metadata": {},
   "outputs": [],
   "source": [
    "# Function to visualize detailed training history\n",
    "def plot_training_history(history):\n",
    "    # Extract metrics from history\n",
    "    acc = history.history['accuracy']\n",
    "    val_acc = history.history['val_accuracy']\n",
    "    loss = history.history['loss']\n",
    "    val_loss = history.history['val_loss']"
   ]
  },
  {
   "cell_type": "code",
   "execution_count": null,
   "id": "1b9728a0-25b4-4607-9347-238ad3f23276",
   "metadata": {},
   "outputs": [],
   "source": [
    "    \n",
    "    # Create plots for accuracy and loss\n",
    "    epochs = range(1, len(acc) + 1)\n",
    "    plt.figure(figsize=(12, 4))\n",
    "    plt.subplot(1, 2, 1)\n",
    "    plt.plot(epochs, acc, 'bo', label='Training Accuracy')\n",
    "    plt.plot(epochs, val_acc, 'b', label='Validation Accuracy')\n",
    "    plt.title('Training and Validation Accuracy')\n",
    "    plt.xlabel('Epochs')\n",
    "    plt.ylabel('Accuracy')\n",
    "    plt.legend()"
   ]
  },
  {
   "cell_type": "code",
   "execution_count": null,
   "id": "853aead0-0ac6-44f2-ac1d-815cdc93dfef",
   "metadata": {},
   "outputs": [],
   "source": [
    "    plt.subplot(1, 2, 2)\n",
    "    plt.plot(epochs, loss, 'bo', label='Training Loss')\n",
    "    plt.plot(epochs, val_loss, 'b', label='Validation Loss')\n",
    "    plt.title('Training and Validation Loss')\n",
    "    plt.xlabel('Epochs')\n",
    "    plt.ylabel('Loss')\n",
    "    plt.legend()\n",
    "\n",
    "    plt.tight_layout()\n",
    "    plt.show()"
   ]
  },
  {
   "cell_type": "code",
   "execution_count": null,
   "id": "2d80887e-35ff-4236-a16a-440871809da4",
   "metadata": {},
   "outputs": [],
   "source": [
    "# Call the function to visualize the training history\n",
    "plot_training_history(history)"
   ]
  },
  {
   "cell_type": "code",
   "execution_count": null,
   "id": "bd2a4f9c-6ddd-49e8-bdf5-397d192341c1",
   "metadata": {},
   "outputs": [],
   "source": [
    "# Predict class probabilities for the test data\n",
    "y_pred = cnn.predict(test_data)"
   ]
  },
  {
   "cell_type": "code",
   "execution_count": null,
   "id": "b31cc0cd-04b3-46dd-b690-8442563443e5",
   "metadata": {},
   "outputs": [],
   "source": [
    "# Convert predicted probabilities to class indices\n",
    "y_pred = [np.argmax(i) for i in y_pred]"
   ]
  },
  {
   "cell_type": "code",
   "execution_count": null,
   "id": "33bf4a46-de1a-41b9-b0e4-b94e802d6cc0",
   "metadata": {},
   "outputs": [],
   "source": [
    "# Convert one-hot encoded test labels to class indices\n",
    "test_label = [np.argmax(i) for i in test_label]"
   ]
  },
  {
   "cell_type": "code",
   "execution_count": null,
   "id": "ae991477-1dbe-4f3f-8200-bd09e2fce0c2",
   "metadata": {},
   "outputs": [],
   "source": []
  },
  {
   "cell_type": "code",
   "execution_count": null,
   "id": "a299a65b-5f3d-44c7-ba16-984d636a419b",
   "metadata": {},
   "outputs": [],
   "source": [
    "# Visualize some test samples with predictions\n",
    "plt.figure(figsize=(10, 10))\n",
    "for i in range(25):  # Show first 25 test images\n",
    "    plt.subplot(5, 5, i + 1)\n",
    "    plt.imshow(test_data[i])  # Display the image\n",
    "    plt.xticks([])\n",
    "    plt.yticks([])"
   ]
  },
  {
   "cell_type": "code",
   "execution_count": null,
   "id": "5ae136a5-1b62-4a4a-8941-f21317f68799",
   "metadata": {},
   "outputs": [],
   "source": [
    "    \n",
    "    # Use color coding for the prediction result\n",
    "    if y_pred[i] == test_label[i]:\n",
    "        color = 'green'  # Correct prediction\n",
    "    else:\n",
    "        color = 'red'  # Incorrect prediction\n",
    "\n",
    "    # Display predicted and actual labels with color indication\n",
    "    plt.xlabel(f\"Predicted: {y_pred[i]} Actual: {test_label[i]}\", color=color)\n",
    "\n",
    "plt.tight_layout()\n",
    "plt.show()"
   ]
  }
 ],
 "metadata": {
  "kernelspec": {
   "display_name": "Python 3 (ipykernel)",
   "language": "python",
   "name": "python3"
  },
  "language_info": {
   "codemirror_mode": {
    "name": "ipython",
    "version": 3
   },
   "file_extension": ".py",
   "mimetype": "text/x-python",
   "name": "python",
   "nbconvert_exporter": "python",
   "pygments_lexer": "ipython3",
   "version": "3.12.4"
  }
 },
 "nbformat": 4,
 "nbformat_minor": 5
}
